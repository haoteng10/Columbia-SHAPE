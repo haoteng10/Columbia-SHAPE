{
 "cells": [
  {
   "cell_type": "markdown",
   "metadata": {},
   "source": [
    "Question 1: \n",
    "Write 7, 9 and 36 in binary: "
   ]
  },
  {
   "cell_type": "markdown",
   "metadata": {},
   "source": [
    "7 = 0111\n",
    "9 = 1001\n",
    "36 = 100100"
   ]
  },
  {
   "cell_type": "markdown",
   "metadata": {},
   "source": [
    "Question 2: \n",
    "Write 1011 and 11100 in decimal."
   ]
  },
  {
   "cell_type": "markdown",
   "metadata": {},
   "source": [
    "11 \n",
    "28 "
   ]
  },
  {
   "cell_type": "markdown",
   "metadata": {},
   "source": [
    "Question 3: \n",
    "(0)10=(0)2\n",
    "(1)10= (1)2\n",
    "(2)10= (10)2\n",
    "(3)10= (11)2\n",
    "try to keep going without calculations: "
   ]
  },
  {
   "cell_type": "code",
   "execution_count": null,
   "metadata": {},
   "outputs": [],
   "source": []
  },
  {
   "cell_type": "markdown",
   "metadata": {},
   "source": [
    "Question 4: \n",
    "Calculate 100+110="
   ]
  },
  {
   "cell_type": "markdown",
   "metadata": {},
   "source": [
    "1010"
   ]
  },
  {
   "cell_type": "markdown",
   "metadata": {},
   "source": [
    "Question 5: \n",
    "Programming examples: \n",
    "print(\"Hello ENGIE0002!\")\n",
    "5+2\n",
    "5%2\n",
    "5//2\n",
    "2**5"
   ]
  },
  {
   "cell_type": "code",
   "execution_count": null,
   "metadata": {},
   "outputs": [],
   "source": []
  },
  {
   "cell_type": "markdown",
   "metadata": {},
   "source": [
    "Question 6: \n",
    "Write a Python program that writes your name and age on the screen:"
   ]
  },
  {
   "cell_type": "code",
   "execution_count": 1,
   "metadata": {},
   "outputs": [
    {
     "name": "stdout",
     "output_type": "stream",
     "text": [
      "Alejandro 14\n"
     ]
    }
   ],
   "source": [
    "print (\"Alejandro 14\")"
   ]
  },
  {
   "cell_type": "code",
   "execution_count": 2,
   "metadata": {},
   "outputs": [
    {
     "name": "stdout",
     "output_type": "stream",
     "text": [
      "myname 21\n"
     ]
    }
   ],
   "source": [
    "name = \"myname\"\n",
    "age = 21\n",
    "print(name, age)"
   ]
  },
  {
   "cell_type": "markdown",
   "metadata": {},
   "source": [
    "Question 7: \n",
    "Write a Python programin Spyder to calculate how many people and things are going to St. Ives:"
   ]
  },
  {
   "cell_type": "code",
   "execution_count": 3,
   "metadata": {},
   "outputs": [
    {
     "name": "stdout",
     "output_type": "stream",
     "text": [
      "2800\n"
     ]
    }
   ],
   "source": [
    "wives = 7\n",
    "sacks = 7 * wives\n",
    "cats = 7 * sacks\n",
    "kittens = 7 * cats\n",
    "total = wives + sacks + cats + kittens\n",
    "print(total)"
   ]
  },
  {
   "cell_type": "markdown",
   "metadata": {},
   "source": [
    "Question 8: \n",
    "Print and Input commands: "
   ]
  },
  {
   "cell_type": "code",
   "execution_count": null,
   "metadata": {},
   "outputs": [],
   "source": []
  },
  {
   "cell_type": "markdown",
   "metadata": {},
   "source": [
    "Question 9: \n",
    "Write a python code that draws the rectangle of *"
   ]
  },
  {
   "cell_type": "code",
   "execution_count": 6,
   "metadata": {},
   "outputs": [
    {
     "name": "stdout",
     "output_type": "stream",
     "text": [
      "How many columns?  6\n",
      "How many rows?  6\n",
      "******\n",
      "******\n",
      "******\n",
      "******\n",
      "******\n",
      "******\n"
     ]
    }
   ],
   "source": [
    "x = \"*\"\n",
    "num_columns = int(input(\"How many columns?  \"))\n",
    "num_rows = int(input(\"How many rows?  \"))\n",
    "\n",
    "for rows in range(num_rows):\n",
    "    print (x*num_columns)"
   ]
  },
  {
   "cell_type": "markdown",
   "metadata": {},
   "source": [
    "Question 10: \n",
    "Write python code that ask the user for his/her name and age and print them on the screen"
   ]
  },
  {
   "cell_type": "code",
   "execution_count": 5,
   "metadata": {},
   "outputs": [
    {
     "name": "stdout",
     "output_type": "stream",
     "text": [
      "what is your nameJason\n",
      "what is your age14\n",
      "you are Jason and you are 14years old\n"
     ]
    }
   ],
   "source": [
    "name = input(\"what is your name\")\n",
    "age = input(\"what is your age\")\n",
    "print(\"you are \"+ name +\" and you are \" + age + \"years old\")"
   ]
  },
  {
   "cell_type": "markdown",
   "metadata": {},
   "source": [
    "Question 11: \n",
    "Write a Python script that prompts the user to enter a duration in seconds and then display that durationin hours, minutes, seconds"
   ]
  },
  {
   "cell_type": "code",
   "execution_count": 7,
   "metadata": {
    "scrolled": true
   },
   "outputs": [
    {
     "name": "stdout",
     "output_type": "stream",
     "text": [
      "Number of seconds: 3672\n",
      "1 hours 1 minutes 12 seconds\n"
     ]
    }
   ],
   "source": [
    "secs = int(input(\"Number of seconds: \"))\n",
    "hours = secs // 3600\n",
    "minutes = (secs % 3600) // 60\n",
    "secs = secs % 60\n",
    "print(hours, \"hours\", minutes, \"minutes\", secs, \"seconds\")"
   ]
  },
  {
   "cell_type": "code",
   "execution_count": 1,
   "metadata": {},
   "outputs": [
    {
     "name": "stdout",
     "output_type": "stream",
     "text": [
      "Please enter the number of seconds: 800\n",
      "0 hour(s) 13 minute(s) 20 sec(s)\n"
     ]
    }
   ],
   "source": [
    "secs = int(input(\"Please enter the number of seconds: \"))\n",
    "hours = secs // 3600\n",
    "secs -= hours * 3600\n",
    "minutes = secs // 60\n",
    "secs -= minutes * 60\n",
    "print (hours , \"hour(s)\" , minutes , \"minute(s)\" , secs , \"sec(s)\")"
   ]
  },
  {
   "cell_type": "code",
   "execution_count": 9,
   "metadata": {},
   "outputs": [
    {
     "data": {
      "text/plain": [
       "2.5"
      ]
     },
     "execution_count": 9,
     "metadata": {},
     "output_type": "execute_result"
    }
   ],
   "source": [
    "5/2"
   ]
  },
  {
   "cell_type": "code",
   "execution_count": 10,
   "metadata": {},
   "outputs": [
    {
     "data": {
      "text/plain": [
       "2"
      ]
     },
     "execution_count": 10,
     "metadata": {},
     "output_type": "execute_result"
    }
   ],
   "source": [
    "5//2"
   ]
  },
  {
   "cell_type": "code",
   "execution_count": 11,
   "metadata": {},
   "outputs": [
    {
     "data": {
      "text/plain": [
       "1"
      ]
     },
     "execution_count": 11,
     "metadata": {},
     "output_type": "execute_result"
    }
   ],
   "source": [
    "5%2"
   ]
  },
  {
   "cell_type": "code",
   "execution_count": null,
   "metadata": {},
   "outputs": [],
   "source": []
  }
 ],
 "metadata": {
  "kernelspec": {
   "display_name": "Python 3",
   "language": "python",
   "name": "python3"
  },
  "language_info": {
   "codemirror_mode": {
    "name": "ipython",
    "version": 3
   },
   "file_extension": ".py",
   "mimetype": "text/x-python",
   "name": "python",
   "nbconvert_exporter": "python",
   "pygments_lexer": "ipython3",
   "version": "3.7.1"
  }
 },
 "nbformat": 4,
 "nbformat_minor": 2
}
